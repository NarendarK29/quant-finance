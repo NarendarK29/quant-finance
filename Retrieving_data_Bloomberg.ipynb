{
 "cells": [
  {
   "cell_type": "markdown",
   "metadata": {},
   "source": [
    "# Retrieve Current and Historical Data Using Bloomberg"
   ]
  },
  {
   "cell_type": "markdown",
   "metadata": {},
   "source": [
    "This example shows how to connect to Bloomberg® and retrieve current and historical market data."
   ]
  },
  {
   "cell_type": "markdown",
   "metadata": {},
   "source": [
    "## Connect to Bloomberg®"
   ]
  },
  {
   "cell_type": "code",
   "execution_count": null,
   "metadata": {},
   "outputs": [],
   "source": [
    "#Create a Bloomberg® Desktop connection.\n",
    "c = blp;\n",
    "Alternatively, you can connect to the Bloomberg® Server using blpsrv or Bloomberg® B-PIPE® using bpipe."
   ]
  },
  {
   "cell_type": "markdown",
   "metadata": {},
   "source": [
    "## Retrieve Current Data"
   ]
  },
  {
   "cell_type": "code",
   "execution_count": null,
   "metadata": {},
   "outputs": [],
   "source": [
    "#Format MATLAB® data display for currency.\n",
    "format bank"
   ]
  },
  {
   "cell_type": "code",
   "execution_count": null,
   "metadata": {},
   "outputs": [],
   "source": [
    "#Retrieve closing and open prices for Microsoft®.\n",
    "sec = 'MSFT US Equity';\n",
    "fields = {'LAST_PRICE';'OPEN'}; % closing and open prices\n",
    "\n",
    "[d,sec] = getdata(c,sec,fields)"
   ]
  },
  {
   "cell_type": "markdown",
   "metadata": {},
   "source": [
    "## Retrieve Historical Data"
   ]
  },
  {
   "cell_type": "code",
   "execution_count": null,
   "metadata": {},
   "outputs": [],
   "source": [
    "#Retrieve monthly closing and open price data from January 1, 2012 through December 31, 2012 for Microsoft®.\n",
    "\n",
    "fromdate = '1/01/2012'; % beginning of date range for historical data\n",
    "todate = '12/31/2012'; % ending of date range for historical data\n",
    "period = 'monthly'; % retrieve monthly data\n",
    "\n",
    "[d,sec] = history(c,sec,fields,fromdate,todate,period)"
   ]
  },
  {
   "cell_type": "markdown",
   "metadata": {},
   "source": [
    "## Find Maximum Open Price in Date Range"
   ]
  },
  {
   "cell_type": "code",
   "execution_count": null,
   "metadata": {},
   "outputs": [],
   "source": [
    "#Calculate the maximum open price for the year 2012.\n",
    "openprices = d(:,3); % retrieve all open prices in date range\n",
    "max(openprices) % calculate maximum open price"
   ]
  },
  {
   "cell_type": "markdown",
   "metadata": {},
   "source": [
    "## Close Bloomberg® Connection"
   ]
  },
  {
   "cell_type": "code",
   "execution_count": null,
   "metadata": {},
   "outputs": [],
   "source": [
    "close(c)"
   ]
  }
 ],
 "metadata": {
  "kernelspec": {
   "display_name": "Matlab",
   "language": "matlab",
   "name": "matlab"
  },
  "language_info": {
   "codemirror_mode": "octave",
   "file_extension": ".m",
   "help_links": [
    {
     "text": "MetaKernel Magics",
     "url": "https://github.com/calysto/metakernel/blob/master/metakernel/magics/README.md"
    }
   ],
   "mimetype": "text/x-octave",
   "name": "matlab",
   "version": "0.15.1"
  }
 },
 "nbformat": 4,
 "nbformat_minor": 2
}
