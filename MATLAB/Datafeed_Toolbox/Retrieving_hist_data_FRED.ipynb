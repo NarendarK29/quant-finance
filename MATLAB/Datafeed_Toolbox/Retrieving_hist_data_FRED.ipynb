{
 "cells": [
  {
   "cell_type": "markdown",
   "metadata": {},
   "source": [
    "# Retrieving historical data using FRED"
   ]
  },
  {
   "cell_type": "markdown",
   "metadata": {},
   "source": [
    "This example shows how to connect to FRED®, retrieve historical foreign exchange rates, and determine when the highest rate occurred.\n",
    "\n",
    "Connect to the FRED® data server using the URL 'https://fred.stlouisfed.org/'."
   ]
  },
  {
   "cell_type": "code",
   "execution_count": 1,
   "metadata": {},
   "outputs": [],
   "source": [
    "url = 'https://fred.stlouisfed.org/';\n",
    "c = fred(url);"
   ]
  },
  {
   "cell_type": "code",
   "execution_count": 2,
   "metadata": {},
   "outputs": [],
   "source": [
    "format bank"
   ]
  },
  {
   "cell_type": "code",
   "execution_count": 3,
   "metadata": {},
   "outputs": [
    {
     "name": "stdout",
     "output_type": "stream",
     "text": [
      "\n",
      "d = \n",
      "\n",
      "  struct with fields:\n",
      "\n",
      "                 Title: ' U.S. / Euro Foreign Exchange Rate'\n",
      "              SeriesID: ' DEXUSEU'\n",
      "                Source: ' Board of Governors of the Federal Reserve System (US)'\n",
      "               Release: ' H.10 Foreign Exchange Rates'\n",
      "    SeasonalAdjustment: ' Not Seasonally Adjusted'\n",
      "             Frequency: ' Daily'\n",
      "                 Units: ' U.S. Dollars to One Euro'\n",
      "             DateRange: ' 1999-01-04 to 2018-06-15'\n",
      "           LastUpdated: ' 2018-06-18 3:51 PM CDT'\n",
      "                 Notes: ' Noon buying rates in New York City for cable transfers payable in foreign currencies.'\n",
      "                  Data: [5075x2 double]\n",
      "\n"
     ]
    }
   ],
   "source": [
    "series = 'DEXUSEU';\n",
    "\n",
    "d = fetch(c,series)"
   ]
  },
  {
   "cell_type": "code",
   "execution_count": 4,
   "metadata": {},
   "outputs": [
    {
     "name": "stdout",
     "output_type": "stream",
     "text": [
      "\n",
      "ans =\n",
      "\n",
      "     730124.00          1.18\n",
      "     730125.00          1.18\n",
      "     730126.00          1.16\n",
      "\n"
     ]
    }
   ],
   "source": [
    "d.Data(1:3,:)"
   ]
  },
  {
   "cell_type": "code",
   "execution_count": 5,
   "metadata": {},
   "outputs": [
    {
     "name": "stdout",
     "output_type": "stream",
     "text": [
      "\n",
      "d = \n",
      "\n",
      "  struct with fields:\n",
      "\n",
      "                 Title: ' U.S. / Euro Foreign Exchange Rate'\n",
      "              SeriesID: ' DEXUSEU'\n",
      "                Source: ' Board of Governors of the Federal Reserve System (US)'\n",
      "               Release: ' H.10 Foreign Exchange Rates'\n",
      "    SeasonalAdjustment: ' Not Seasonally Adjusted'\n",
      "             Frequency: ' Daily'\n",
      "                 Units: ' U.S. Dollars to One Euro'\n",
      "             DateRange: ' 1999-01-04 to 2018-06-15'\n",
      "           LastUpdated: ' 2018-06-18 3:51 PM CDT'\n",
      "                 Notes: ' Noon buying rates in New York City for cable transfers payable in foreign currencies.'\n",
      "                  Data: [110x2 double]\n",
      "\n"
     ]
    }
   ],
   "source": [
    "startdate = '01/01/2012'; % beginning of date range for historical data\n",
    "enddate = '06/01/2012'; % ending of date range for historical data\n",
    "\n",
    "d = fetch(c,series,startdate,enddate)"
   ]
  },
  {
   "cell_type": "code",
   "execution_count": 6,
   "metadata": {},
   "outputs": [
    {
     "name": "stdout",
     "output_type": "stream",
     "text": [
      "\n",
      "maxforex =\n",
      "\n",
      "          1.35\n",
      "\n"
     ]
    }
   ],
   "source": [
    "forex = d.Data(:,2);\n",
    "maxforex = max(forex)"
   ]
  },
  {
   "cell_type": "markdown",
   "metadata": {},
   "source": [
    "Determine when the highest foreign exchange rate occurred. To find the index idx for the highest foreign exchange rate, the function find uses the tolerance value. Retrieve the serial date number by indexing into the array of data using idx. Convert the serial date number to a character vector using the datestr function."
   ]
  },
  {
   "cell_type": "code",
   "execution_count": 7,
   "metadata": {},
   "outputs": [
    {
     "name": "stdout",
     "output_type": "stream",
     "text": [
      "\n",
      "ans =\n",
      "\n",
      "    '24-Feb-2012'\n",
      "\n"
     ]
    }
   ],
   "source": [
    "value = abs(forex-maxforex);\n",
    "idx = find(value<0.001,1);\n",
    "date = d.Data(idx,1);\n",
    "datestr(date)"
   ]
  },
  {
   "cell_type": "markdown",
   "metadata": {},
   "source": [
    "Close connection"
   ]
  },
  {
   "cell_type": "code",
   "execution_count": 8,
   "metadata": {},
   "outputs": [],
   "source": [
    "close(c)"
   ]
  }
 ],
 "metadata": {
  "kernelspec": {
   "display_name": "Matlab",
   "language": "matlab",
   "name": "matlab"
  },
  "language_info": {
   "codemirror_mode": "octave",
   "file_extension": ".m",
   "help_links": [
    {
     "text": "MetaKernel Magics",
     "url": "https://github.com/calysto/metakernel/blob/master/metakernel/magics/README.md"
    }
   ],
   "mimetype": "text/x-octave",
   "name": "matlab",
   "version": "0.15.1"
  }
 },
 "nbformat": 4,
 "nbformat_minor": 2
}
