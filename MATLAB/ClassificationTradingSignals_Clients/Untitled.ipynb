{
 "cells": [
  {
   "cell_type": "markdown",
   "metadata": {},
   "source": [
    "# data1"
   ]
  },
  {
   "cell_type": "code",
   "execution_count": 1,
   "metadata": {},
   "outputs": [],
   "source": [
    "clear;\n",
    "close all;\n",
    "clc;"
   ]
  },
  {
   "cell_type": "code",
   "execution_count": 2,
   "metadata": {},
   "outputs": [],
   "source": [
    "symbol ='SP500';\n",
    "endDate = datenum('Dec-31-2017');\n",
    "c = fred;\n",
    "d = fetch(c,symbol,endDate-3652,endDate);\n",
    "time = datetime(d.Data(:,1),'ConvertFrom','datenum');\n",
    "prices = d.Data(:,2);"
   ]
  },
  {
   "cell_type": "code",
   "execution_count": 3,
   "metadata": {},
   "outputs": [],
   "source": [
    "T = timetable(time,prices);\n",
    "clearvars -except T\n",
    "save('data1.mat');"
   ]
  },
  {
   "cell_type": "markdown",
   "metadata": {},
   "source": [
    "# data2"
   ]
  },
  {
   "cell_type": "code",
   "execution_count": 4,
   "metadata": {},
   "outputs": [],
   "source": [
    "clear;\n",
    "close all;\n",
    "clc;\n",
    "load data1.mat"
   ]
  },
  {
   "cell_type": "code",
   "execution_count": 15,
   "metadata": {},
   "outputs": [],
   "source": [
    "T = rmmissing(T);"
   ]
  },
  {
   "cell_type": "code",
   "execution_count": 16,
   "metadata": {},
   "outputs": [],
   "source": [
    "[T.y,T.m,T.d] = ymd(T.time);"
   ]
  },
  {
   "cell_type": "code",
   "execution_count": 17,
   "metadata": {},
   "outputs": [],
   "source": [
    "T.dayOfWeek = day(T.time,'dayofweek');"
   ]
  },
  {
   "cell_type": "code",
   "execution_count": 18,
   "metadata": {},
   "outputs": [],
   "source": [
    "dayDiff = diff(datenum(T.time));\n",
    "T.nNextTD = [dayDiff; NaN];\n",
    "T.nPreviousTD = [NaN; dayDiff];"
   ]
  },
  {
   "cell_type": "code",
   "execution_count": 20,
   "metadata": {},
   "outputs": [],
   "source": [
    "nDay1 = [1, 5, 10, 20];"
   ]
  },
  {
   "cell_type": "code",
   "execution_count": 22,
   "metadata": {},
   "outputs": [
    {
     "name": "stderr",
     "output_type": "stream",
     "text": [
      "\u001b[0;31mError using eval\n",
      "Undefined function or variable 'nDayReturn'.\n",
      "\n",
      "\u001b[0m"
     ]
    }
   ],
   "source": [
    "for i = 1:numel(nDay1)\n",
    "    factorName = ['ret' num2str(nDay1(i))];\n",
    "    T.(factorName) = nDayReturn(T.prices, nDay1(i));\n",
    "end"
   ]
  },
  {
   "cell_type": "code",
   "execution_count": 23,
   "metadata": {},
   "outputs": [],
   "source": [
    "nDay2 = [7, 14, 21];\n",
    "for i = 1:numel(nDay2)\n",
    "    factorName = ['rsi' num2str(nDay2(i))];\n",
    "    T.(factorName) = rsindex(T.prices,nDay2(i));\n",
    "end"
   ]
  },
  {
   "cell_type": "code",
   "execution_count": 24,
   "metadata": {},
   "outputs": [],
   "source": [
    "T.MACD = macd(T.prices);"
   ]
  },
  {
   "cell_type": "code",
   "execution_count": 25,
   "metadata": {},
   "outputs": [
    {
     "name": "stderr",
     "output_type": "stream",
     "text": [
      "\u001b[0;31mUnrecognized variable name 'ret1'.\n",
      "\n",
      "\u001b[0m"
     ]
    }
   ],
   "source": [
    "nextDayReturn = double(T.ret1(2:end) > 0);\n",
    "response = categorical(nextDayReturn,[1,0],{'Buy','Sell'});\n",
    "title('Distribution of Response Variable');"
   ]
  },
  {
   "cell_type": "code",
   "execution_count": 26,
   "metadata": {},
   "outputs": [],
   "source": [
    "clearvars -except T"
   ]
  },
  {
   "cell_type": "code",
   "execution_count": 27,
   "metadata": {},
   "outputs": [],
   "source": [
    "T = rmmissing(T);\n",
    "T = timetable2table(T);\n",
    "T.time = []; % Remove time\n",
    "T.prices = []; % Remove prices\n",
    "x = T{:,1:end-1};\n",
    "y = T{:,end};\n",
    "save('data2.mat')"
   ]
  },
  {
   "cell_type": "code",
   "execution_count": 28,
   "metadata": {},
   "outputs": [
    {
     "name": "stderr",
     "output_type": "stream",
     "text": [
      "\u001b[0;31mError: Function definition not supported in this context. Create functions in code file.\n",
      "\n",
      "\u001b[0m"
     ]
    }
   ],
   "source": [
    "function returns = nDayReturn(prices, nDay)\n",
    "% This function is to generate nDay return give the price vector\n",
    "returns = NaN(size(prices,1),1);\n",
    "returns(nDay+1:end) = prices(nDay+1:end) ./ prices(1:end-nDay) - 1;\n",
    "end\n",
    "\n",
    "function rsi = nDayRSI(prices, nDay)\n",
    "% This function is to generate nDay RSI give the price vector\n",
    "returns = rsindex(prices,nDay);\n",
    "returns(nDay+1:end) = prices(nDay+1:end) ./ prices(1:end-nDay) - 1;\n",
    "end"
   ]
  },
  {
   "cell_type": "markdown",
   "metadata": {},
   "source": [
    "# data3"
   ]
  },
  {
   "cell_type": "code",
   "execution_count": 29,
   "metadata": {},
   "outputs": [],
   "source": [
    "clear;\n",
    "close all;\n",
    "clc;\n",
    "rng(0); % Fix random seed\n",
    "load data2.mat"
   ]
  },
  {
   "cell_type": "code",
   "execution_count": 30,
   "metadata": {},
   "outputs": [],
   "source": [
    "nOut = 252*2;"
   ]
  },
  {
   "cell_type": "code",
   "execution_count": 31,
   "metadata": {},
   "outputs": [],
   "source": [
    "N = height(T);\n",
    "nIn = N - nOut;\n",
    "idxIn = [1:nIn]';\n",
    "idxOut = [nIn + 1:N]';"
   ]
  },
  {
   "cell_type": "code",
   "execution_count": 32,
   "metadata": {},
   "outputs": [],
   "source": [
    "inSample = T(idxIn,:);\n",
    "outSample = T(idxOut,:);"
   ]
  },
  {
   "cell_type": "code",
   "execution_count": 33,
   "metadata": {},
   "outputs": [
    {
     "name": "stderr",
     "output_type": "stream",
     "text": [
      "\u001b[0;31mError using tabular/dotParenReference (line 69)\n",
      "Unrecognized variable name 'ret1'.\n",
      "\n",
      "\u001b[0m"
     ]
    }
   ],
   "source": [
    "yRetInSample = T.ret1(idxIn);\n",
    "yRetOutSample = T.ret1(idxOut);\n",
    "save('data3_demo1.mat', 'inSample','outSample',...\n",
    "    'yRetInSample','yRetOutSample')"
   ]
  },
  {
   "cell_type": "code",
   "execution_count": 34,
   "metadata": {},
   "outputs": [
    {
     "name": "stderr",
     "output_type": "stream",
     "text": [
      "\u001b[0;31mUnrecognized variable name 'response'.\n",
      "\n",
      "\u001b[0m"
     ]
    }
   ],
   "source": [
    "nBuy = sum(inSample.response == 'Buy')"
   ]
  },
  {
   "cell_type": "code",
   "execution_count": null,
   "metadata": {},
   "outputs": [],
   "source": []
  }
 ],
 "metadata": {
  "kernelspec": {
   "display_name": "Matlab",
   "language": "matlab",
   "name": "matlab"
  },
  "language_info": {
   "codemirror_mode": "octave",
   "file_extension": ".m",
   "help_links": [
    {
     "text": "MetaKernel Magics",
     "url": "https://github.com/calysto/metakernel/blob/master/metakernel/magics/README.md"
    }
   ],
   "mimetype": "text/x-octave",
   "name": "matlab",
   "version": "0.15.1"
  }
 },
 "nbformat": 4,
 "nbformat_minor": 2
}
