{
 "cells": [
  {
   "cell_type": "markdown",
   "metadata": {},
   "source": [
    "# Using Python With Quandl Data"
   ]
  },
  {
   "cell_type": "markdown",
   "metadata": {},
   "source": [
    "### Preliminaries"
   ]
  },
  {
   "cell_type": "markdown",
   "metadata": {},
   "source": [
    "We want plots to appear in this notebook rather than in a separate window."
   ]
  },
  {
   "cell_type": "code",
   "execution_count": 8,
   "metadata": {
    "ExecuteTime": {
     "end_time": "2018-03-27T02:18:17.596578Z",
     "start_time": "2018-03-27T02:18:16.436084Z"
    },
    "collapsed": true
   },
   "outputs": [],
   "source": [
    "%matplotlib inline"
   ]
  },
  {
   "cell_type": "markdown",
   "metadata": {},
   "source": [
    "Import Python modules to support our research.  If you are using _Anaconda_ then you may need to run _conda install seaborn_ and similar commands."
   ]
  },
  {
   "cell_type": "code",
   "execution_count": 1,
   "metadata": {
    "ExecuteTime": {
     "end_time": "2018-03-27T02:18:20.680220Z",
     "start_time": "2018-03-27T02:18:19.349005Z"
    },
    "collapsed": false
   },
   "outputs": [
    {
     "name": "stderr",
     "output_type": "stream",
     "text": [
      ":0: FutureWarning: IPython widgets are experimental and may change in the future.\n"
     ]
    }
   ],
   "source": [
    "import matplotlib.pyplot as plt\n",
    "import pandas as pd\n",
    "import numpy as np\n",
    "import scipy as sp\n",
    "import quandl\n",
    "import functools\n",
    "import seaborn as sns\n"
   ]
  },
  {
   "cell_type": "markdown",
   "metadata": {},
   "source": [
    "### Load the Data"
   ]
  },
  {
   "cell_type": "markdown",
   "metadata": {},
   "source": [
    "\n",
    "We are likely to run this notebook over and over, so we add memoizaiton to the data loading function. This makes testing and re-running our code far faster, and even lets us work offline.  Note that if we change the code inside our function, we may get unexpectedly stale results out of the cache!"
   ]
  },
  {
   "cell_type": "code",
   "execution_count": 2,
   "metadata": {
    "ExecuteTime": {
     "end_time": "2018-03-27T02:18:32.783435Z",
     "start_time": "2018-03-27T02:18:32.775306Z"
    },
    "collapsed": true
   },
   "outputs": [],
   "source": [
    "@functools.lru_cache(maxsize=16)\n",
    "def fetch_quandl(my_securities):\n",
    "    print(\"Fetching from Quandl\")\n",
    "    qdata = quandl.get(list(my_securities), returns=\"pandas\")\n",
    "    return qdata"
   ]
  },
  {
   "cell_type": "code",
   "execution_count": 3,
   "metadata": {
    "ExecuteTime": {
     "end_time": "2018-03-27T02:18:43.868242Z",
     "start_time": "2018-03-27T02:18:33.501616Z"
    },
    "collapsed": false
   },
   "outputs": [
    {
     "name": "stdout",
     "output_type": "stream",
     "text": [
      "Fetching from Quandl\n"
     ]
    }
   ],
   "source": [
    "raw_data = fetch_quandl(('WIKI/XOM', \"NSE/OIL\"))\n"
   ]
  },
  {
   "cell_type": "markdown",
   "metadata": {},
   "source": [
    "### See what we downloaded"
   ]
  },
  {
   "cell_type": "code",
   "execution_count": 4,
   "metadata": {
    "ExecuteTime": {
     "end_time": "2018-03-27T02:18:43.921921Z",
     "start_time": "2018-03-27T02:18:43.871276Z"
    },
    "collapsed": false
   },
   "outputs": [
    {
     "data": {
      "text/html": [
       "<div>\n",
       "<table border=\"1\" class=\"dataframe\">\n",
       "  <thead>\n",
       "    <tr style=\"text-align: right;\">\n",
       "      <th></th>\n",
       "      <th>WIKI/XOM - Open</th>\n",
       "      <th>WIKI/XOM - High</th>\n",
       "      <th>WIKI/XOM - Low</th>\n",
       "      <th>WIKI/XOM - Close</th>\n",
       "      <th>WIKI/XOM - Volume</th>\n",
       "      <th>WIKI/XOM - Ex-Dividend</th>\n",
       "      <th>WIKI/XOM - Split Ratio</th>\n",
       "      <th>WIKI/XOM - Adj. Open</th>\n",
       "      <th>WIKI/XOM - Adj. High</th>\n",
       "      <th>WIKI/XOM - Adj. Low</th>\n",
       "      <th>WIKI/XOM - Adj. Close</th>\n",
       "      <th>WIKI/XOM - Adj. Volume</th>\n",
       "      <th>NSE/OIL - Open</th>\n",
       "      <th>NSE/OIL - High</th>\n",
       "      <th>NSE/OIL - Low</th>\n",
       "      <th>NSE/OIL - Last</th>\n",
       "      <th>NSE/OIL - Close</th>\n",
       "      <th>NSE/OIL - Total Trade Quantity</th>\n",
       "      <th>NSE/OIL - Turnover (Lacs)</th>\n",
       "    </tr>\n",
       "    <tr>\n",
       "      <th>Date</th>\n",
       "      <th></th>\n",
       "      <th></th>\n",
       "      <th></th>\n",
       "      <th></th>\n",
       "      <th></th>\n",
       "      <th></th>\n",
       "      <th></th>\n",
       "      <th></th>\n",
       "      <th></th>\n",
       "      <th></th>\n",
       "      <th></th>\n",
       "      <th></th>\n",
       "      <th></th>\n",
       "      <th></th>\n",
       "      <th></th>\n",
       "      <th></th>\n",
       "      <th></th>\n",
       "      <th></th>\n",
       "      <th></th>\n",
       "    </tr>\n",
       "  </thead>\n",
       "  <tbody>\n",
       "    <tr>\n",
       "      <th>2018-03-22</th>\n",
       "      <td>74.42</td>\n",
       "      <td>74.7000</td>\n",
       "      <td>73.3900</td>\n",
       "      <td>73.50</td>\n",
       "      <td>17118037</td>\n",
       "      <td>0</td>\n",
       "      <td>1</td>\n",
       "      <td>74.42</td>\n",
       "      <td>74.7000</td>\n",
       "      <td>73.3900</td>\n",
       "      <td>73.50</td>\n",
       "      <td>17118037</td>\n",
       "      <td>334.00</td>\n",
       "      <td>344.55</td>\n",
       "      <td>334.00</td>\n",
       "      <td>343.9</td>\n",
       "      <td>341.35</td>\n",
       "      <td>1513899</td>\n",
       "      <td>5139.83</td>\n",
       "    </tr>\n",
       "    <tr>\n",
       "      <th>2018-03-23</th>\n",
       "      <td>73.81</td>\n",
       "      <td>74.2100</td>\n",
       "      <td>72.6700</td>\n",
       "      <td>72.89</td>\n",
       "      <td>19069634</td>\n",
       "      <td>0</td>\n",
       "      <td>1</td>\n",
       "      <td>73.81</td>\n",
       "      <td>74.2100</td>\n",
       "      <td>72.6700</td>\n",
       "      <td>72.89</td>\n",
       "      <td>19069634</td>\n",
       "      <td>339.35</td>\n",
       "      <td>352.00</td>\n",
       "      <td>332.25</td>\n",
       "      <td>349.5</td>\n",
       "      <td>349.95</td>\n",
       "      <td>5043261</td>\n",
       "      <td>17318.61</td>\n",
       "    </tr>\n",
       "    <tr>\n",
       "      <th>2018-03-26</th>\n",
       "      <td>73.65</td>\n",
       "      <td>74.1500</td>\n",
       "      <td>72.7548</td>\n",
       "      <td>74.00</td>\n",
       "      <td>14894438</td>\n",
       "      <td>0</td>\n",
       "      <td>1</td>\n",
       "      <td>73.65</td>\n",
       "      <td>74.1500</td>\n",
       "      <td>72.7548</td>\n",
       "      <td>74.00</td>\n",
       "      <td>14894438</td>\n",
       "      <td>353.00</td>\n",
       "      <td>353.00</td>\n",
       "      <td>337.00</td>\n",
       "      <td>341.0</td>\n",
       "      <td>342.45</td>\n",
       "      <td>1812181</td>\n",
       "      <td>6252.15</td>\n",
       "    </tr>\n",
       "    <tr>\n",
       "      <th>2018-03-27</th>\n",
       "      <td>74.00</td>\n",
       "      <td>74.8949</td>\n",
       "      <td>73.2750</td>\n",
       "      <td>73.70</td>\n",
       "      <td>14625541</td>\n",
       "      <td>0</td>\n",
       "      <td>1</td>\n",
       "      <td>74.00</td>\n",
       "      <td>74.8949</td>\n",
       "      <td>73.2750</td>\n",
       "      <td>73.70</td>\n",
       "      <td>14625541</td>\n",
       "      <td>215.00</td>\n",
       "      <td>221.95</td>\n",
       "      <td>213.00</td>\n",
       "      <td>216.8</td>\n",
       "      <td>216.80</td>\n",
       "      <td>2742078</td>\n",
       "      <td>5949.49</td>\n",
       "    </tr>\n",
       "    <tr>\n",
       "      <th>2018-03-28</th>\n",
       "      <td>NaN</td>\n",
       "      <td>NaN</td>\n",
       "      <td>NaN</td>\n",
       "      <td>NaN</td>\n",
       "      <td>NaN</td>\n",
       "      <td>NaN</td>\n",
       "      <td>NaN</td>\n",
       "      <td>NaN</td>\n",
       "      <td>NaN</td>\n",
       "      <td>NaN</td>\n",
       "      <td>NaN</td>\n",
       "      <td>NaN</td>\n",
       "      <td>215.10</td>\n",
       "      <td>218.90</td>\n",
       "      <td>214.10</td>\n",
       "      <td>218.1</td>\n",
       "      <td>216.35</td>\n",
       "      <td>2219838</td>\n",
       "      <td>4797.22</td>\n",
       "    </tr>\n",
       "  </tbody>\n",
       "</table>\n",
       "</div>"
      ],
      "text/plain": [
       "            WIKI/XOM - Open  WIKI/XOM - High  WIKI/XOM - Low  \\\n",
       "Date                                                           \n",
       "2018-03-22            74.42          74.7000         73.3900   \n",
       "2018-03-23            73.81          74.2100         72.6700   \n",
       "2018-03-26            73.65          74.1500         72.7548   \n",
       "2018-03-27            74.00          74.8949         73.2750   \n",
       "2018-03-28              NaN              NaN             NaN   \n",
       "\n",
       "            WIKI/XOM - Close  WIKI/XOM - Volume  WIKI/XOM - Ex-Dividend  \\\n",
       "Date                                                                      \n",
       "2018-03-22             73.50           17118037                       0   \n",
       "2018-03-23             72.89           19069634                       0   \n",
       "2018-03-26             74.00           14894438                       0   \n",
       "2018-03-27             73.70           14625541                       0   \n",
       "2018-03-28               NaN                NaN                     NaN   \n",
       "\n",
       "            WIKI/XOM - Split Ratio  WIKI/XOM - Adj. Open  \\\n",
       "Date                                                       \n",
       "2018-03-22                       1                 74.42   \n",
       "2018-03-23                       1                 73.81   \n",
       "2018-03-26                       1                 73.65   \n",
       "2018-03-27                       1                 74.00   \n",
       "2018-03-28                     NaN                   NaN   \n",
       "\n",
       "            WIKI/XOM - Adj. High  WIKI/XOM - Adj. Low  WIKI/XOM - Adj. Close  \\\n",
       "Date                                                                           \n",
       "2018-03-22               74.7000              73.3900                  73.50   \n",
       "2018-03-23               74.2100              72.6700                  72.89   \n",
       "2018-03-26               74.1500              72.7548                  74.00   \n",
       "2018-03-27               74.8949              73.2750                  73.70   \n",
       "2018-03-28                   NaN                  NaN                    NaN   \n",
       "\n",
       "            WIKI/XOM - Adj. Volume  NSE/OIL - Open  NSE/OIL - High  \\\n",
       "Date                                                                 \n",
       "2018-03-22                17118037          334.00          344.55   \n",
       "2018-03-23                19069634          339.35          352.00   \n",
       "2018-03-26                14894438          353.00          353.00   \n",
       "2018-03-27                14625541          215.00          221.95   \n",
       "2018-03-28                     NaN          215.10          218.90   \n",
       "\n",
       "            NSE/OIL - Low  NSE/OIL - Last  NSE/OIL - Close  \\\n",
       "Date                                                         \n",
       "2018-03-22         334.00           343.9           341.35   \n",
       "2018-03-23         332.25           349.5           349.95   \n",
       "2018-03-26         337.00           341.0           342.45   \n",
       "2018-03-27         213.00           216.8           216.80   \n",
       "2018-03-28         214.10           218.1           216.35   \n",
       "\n",
       "            NSE/OIL - Total Trade Quantity  NSE/OIL - Turnover (Lacs)  \n",
       "Date                                                                   \n",
       "2018-03-22                         1513899                    5139.83  \n",
       "2018-03-23                         5043261                   17318.61  \n",
       "2018-03-26                         1812181                    6252.15  \n",
       "2018-03-27                         2742078                    5949.49  \n",
       "2018-03-28                         2219838                    4797.22  "
      ]
     },
     "execution_count": 4,
     "metadata": {},
     "output_type": "execute_result"
    }
   ],
   "source": [
    "raw_data.tail()"
   ]
  },
  {
   "cell_type": "markdown",
   "metadata": {},
   "source": [
    "It needs cleaning!"
   ]
  },
  {
   "cell_type": "markdown",
   "metadata": {},
   "source": [
    "### Common Quant Task: Massaging The Data"
   ]
  },
  {
   "cell_type": "markdown",
   "metadata": {},
   "source": [
    "Here we create a function that cleans up column names in our data, for better-looking plot labels and plot specifications"
   ]
  },
  {
   "cell_type": "code",
   "execution_count": 5,
   "metadata": {
    "ExecuteTime": {
     "end_time": "2018-03-27T02:19:31.545184Z",
     "start_time": "2018-03-27T02:19:31.474229Z"
    },
    "collapsed": false
   },
   "outputs": [
    {
     "data": {
      "text/html": [
       "<div>\n",
       "<table border=\"1\" class=\"dataframe\">\n",
       "  <thead>\n",
       "    <tr style=\"text-align: right;\">\n",
       "      <th></th>\n",
       "      <th>XOM:Open</th>\n",
       "      <th>XOM:High</th>\n",
       "      <th>XOM:Low</th>\n",
       "      <th>XOM:Close</th>\n",
       "      <th>XOM:Volume</th>\n",
       "      <th>XOM:Ex-Dividend</th>\n",
       "      <th>XOM:Split Ratio</th>\n",
       "      <th>XOM:Adj. Open</th>\n",
       "      <th>XOM:Adj. High</th>\n",
       "      <th>XOM:Adj. Low</th>\n",
       "      <th>XOM:Adj. Close</th>\n",
       "      <th>XOM:Adj. Volume</th>\n",
       "      <th>OIL:Open</th>\n",
       "      <th>OIL:High</th>\n",
       "      <th>OIL:Low</th>\n",
       "      <th>OIL:Last</th>\n",
       "      <th>OIL:Close</th>\n",
       "      <th>OIL:Total Trade Quantity</th>\n",
       "      <th>OIL:Turnover (Lacs)</th>\n",
       "    </tr>\n",
       "    <tr>\n",
       "      <th>Date</th>\n",
       "      <th></th>\n",
       "      <th></th>\n",
       "      <th></th>\n",
       "      <th></th>\n",
       "      <th></th>\n",
       "      <th></th>\n",
       "      <th></th>\n",
       "      <th></th>\n",
       "      <th></th>\n",
       "      <th></th>\n",
       "      <th></th>\n",
       "      <th></th>\n",
       "      <th></th>\n",
       "      <th></th>\n",
       "      <th></th>\n",
       "      <th></th>\n",
       "      <th></th>\n",
       "      <th></th>\n",
       "      <th></th>\n",
       "    </tr>\n",
       "  </thead>\n",
       "  <tbody>\n",
       "    <tr>\n",
       "      <th>2018-03-22</th>\n",
       "      <td>74.42</td>\n",
       "      <td>74.7000</td>\n",
       "      <td>73.3900</td>\n",
       "      <td>73.50</td>\n",
       "      <td>17118037</td>\n",
       "      <td>0</td>\n",
       "      <td>1</td>\n",
       "      <td>74.42</td>\n",
       "      <td>74.7000</td>\n",
       "      <td>73.3900</td>\n",
       "      <td>73.50</td>\n",
       "      <td>17118037</td>\n",
       "      <td>334.00</td>\n",
       "      <td>344.55</td>\n",
       "      <td>334.00</td>\n",
       "      <td>343.9</td>\n",
       "      <td>341.35</td>\n",
       "      <td>1513899</td>\n",
       "      <td>5139.83</td>\n",
       "    </tr>\n",
       "    <tr>\n",
       "      <th>2018-03-23</th>\n",
       "      <td>73.81</td>\n",
       "      <td>74.2100</td>\n",
       "      <td>72.6700</td>\n",
       "      <td>72.89</td>\n",
       "      <td>19069634</td>\n",
       "      <td>0</td>\n",
       "      <td>1</td>\n",
       "      <td>73.81</td>\n",
       "      <td>74.2100</td>\n",
       "      <td>72.6700</td>\n",
       "      <td>72.89</td>\n",
       "      <td>19069634</td>\n",
       "      <td>339.35</td>\n",
       "      <td>352.00</td>\n",
       "      <td>332.25</td>\n",
       "      <td>349.5</td>\n",
       "      <td>349.95</td>\n",
       "      <td>5043261</td>\n",
       "      <td>17318.61</td>\n",
       "    </tr>\n",
       "    <tr>\n",
       "      <th>2018-03-26</th>\n",
       "      <td>73.65</td>\n",
       "      <td>74.1500</td>\n",
       "      <td>72.7548</td>\n",
       "      <td>74.00</td>\n",
       "      <td>14894438</td>\n",
       "      <td>0</td>\n",
       "      <td>1</td>\n",
       "      <td>73.65</td>\n",
       "      <td>74.1500</td>\n",
       "      <td>72.7548</td>\n",
       "      <td>74.00</td>\n",
       "      <td>14894438</td>\n",
       "      <td>353.00</td>\n",
       "      <td>353.00</td>\n",
       "      <td>337.00</td>\n",
       "      <td>341.0</td>\n",
       "      <td>342.45</td>\n",
       "      <td>1812181</td>\n",
       "      <td>6252.15</td>\n",
       "    </tr>\n",
       "    <tr>\n",
       "      <th>2018-03-27</th>\n",
       "      <td>74.00</td>\n",
       "      <td>74.8949</td>\n",
       "      <td>73.2750</td>\n",
       "      <td>73.70</td>\n",
       "      <td>14625541</td>\n",
       "      <td>0</td>\n",
       "      <td>1</td>\n",
       "      <td>74.00</td>\n",
       "      <td>74.8949</td>\n",
       "      <td>73.2750</td>\n",
       "      <td>73.70</td>\n",
       "      <td>14625541</td>\n",
       "      <td>215.00</td>\n",
       "      <td>221.95</td>\n",
       "      <td>213.00</td>\n",
       "      <td>216.8</td>\n",
       "      <td>216.80</td>\n",
       "      <td>2742078</td>\n",
       "      <td>5949.49</td>\n",
       "    </tr>\n",
       "    <tr>\n",
       "      <th>2018-03-28</th>\n",
       "      <td>NaN</td>\n",
       "      <td>NaN</td>\n",
       "      <td>NaN</td>\n",
       "      <td>NaN</td>\n",
       "      <td>NaN</td>\n",
       "      <td>NaN</td>\n",
       "      <td>NaN</td>\n",
       "      <td>NaN</td>\n",
       "      <td>NaN</td>\n",
       "      <td>NaN</td>\n",
       "      <td>NaN</td>\n",
       "      <td>NaN</td>\n",
       "      <td>215.10</td>\n",
       "      <td>218.90</td>\n",
       "      <td>214.10</td>\n",
       "      <td>218.1</td>\n",
       "      <td>216.35</td>\n",
       "      <td>2219838</td>\n",
       "      <td>4797.22</td>\n",
       "    </tr>\n",
       "  </tbody>\n",
       "</table>\n",
       "</div>"
      ],
      "text/plain": [
       "            XOM:Open  XOM:High  XOM:Low  XOM:Close  XOM:Volume  \\\n",
       "Date                                                             \n",
       "2018-03-22     74.42   74.7000  73.3900      73.50    17118037   \n",
       "2018-03-23     73.81   74.2100  72.6700      72.89    19069634   \n",
       "2018-03-26     73.65   74.1500  72.7548      74.00    14894438   \n",
       "2018-03-27     74.00   74.8949  73.2750      73.70    14625541   \n",
       "2018-03-28       NaN       NaN      NaN        NaN         NaN   \n",
       "\n",
       "            XOM:Ex-Dividend  XOM:Split Ratio  XOM:Adj. Open  XOM:Adj. High  \\\n",
       "Date                                                                         \n",
       "2018-03-22                0                1          74.42        74.7000   \n",
       "2018-03-23                0                1          73.81        74.2100   \n",
       "2018-03-26                0                1          73.65        74.1500   \n",
       "2018-03-27                0                1          74.00        74.8949   \n",
       "2018-03-28              NaN              NaN            NaN            NaN   \n",
       "\n",
       "            XOM:Adj. Low  XOM:Adj. Close  XOM:Adj. Volume  OIL:Open  OIL:High  \\\n",
       "Date                                                                            \n",
       "2018-03-22       73.3900           73.50         17118037    334.00    344.55   \n",
       "2018-03-23       72.6700           72.89         19069634    339.35    352.00   \n",
       "2018-03-26       72.7548           74.00         14894438    353.00    353.00   \n",
       "2018-03-27       73.2750           73.70         14625541    215.00    221.95   \n",
       "2018-03-28           NaN             NaN              NaN    215.10    218.90   \n",
       "\n",
       "            OIL:Low  OIL:Last  OIL:Close  OIL:Total Trade Quantity  \\\n",
       "Date                                                                 \n",
       "2018-03-22   334.00     343.9     341.35                   1513899   \n",
       "2018-03-23   332.25     349.5     349.95                   5043261   \n",
       "2018-03-26   337.00     341.0     342.45                   1812181   \n",
       "2018-03-27   213.00     216.8     216.80                   2742078   \n",
       "2018-03-28   214.10     218.1     216.35                   2219838   \n",
       "\n",
       "            OIL:Turnover (Lacs)  \n",
       "Date                             \n",
       "2018-03-22              5139.83  \n",
       "2018-03-23             17318.61  \n",
       "2018-03-26              6252.15  \n",
       "2018-03-27              5949.49  \n",
       "2018-03-28              4797.22  "
      ]
     },
     "execution_count": 5,
     "metadata": {},
     "output_type": "execute_result"
    }
   ],
   "source": [
    "def clean_quandl_columns(dataframe):\n",
    "    replacement_columns = {}\n",
    "    for c in dataframe.columns:\n",
    "        series_name, variable = c.split(' - ')\n",
    "        source_name, asset = series_name.split('/')\n",
    "        replacement_columns[c] = asset+\":\"+variable\n",
    "    renamed_data = dataframe.rename(columns=replacement_columns)\n",
    "    return renamed_data\n",
    "renamed_data = clean_quandl_columns(raw_data)\n",
    "renamed_data.tail()\n"
   ]
  },
  {
   "cell_type": "code",
   "execution_count": 9,
   "metadata": {
    "ExecuteTime": {
     "end_time": "2018-03-27T02:19:44.096466Z",
     "start_time": "2018-03-27T02:19:44.080726Z"
    },
    "collapsed": false
   },
   "outputs": [
    {
     "data": {
      "text/html": [
       "<div>\n",
       "<style>\n",
       "    .dataframe thead tr:only-child th {\n",
       "        text-align: right;\n",
       "    }\n",
       "\n",
       "    .dataframe thead th {\n",
       "        text-align: left;\n",
       "    }\n",
       "\n",
       "    .dataframe tbody tr th {\n",
       "        vertical-align: top;\n",
       "    }\n",
       "</style>\n",
       "<table border=\"1\" class=\"dataframe\">\n",
       "  <thead>\n",
       "    <tr style=\"text-align: right;\">\n",
       "      <th></th>\n",
       "      <th>XOM:Adj. Close</th>\n",
       "      <th>OIL:Close</th>\n",
       "    </tr>\n",
       "    <tr>\n",
       "      <th>Date</th>\n",
       "      <th></th>\n",
       "      <th></th>\n",
       "    </tr>\n",
       "  </thead>\n",
       "  <tbody>\n",
       "    <tr>\n",
       "      <th>2018-03-20</th>\n",
       "      <td>73.99</td>\n",
       "      <td>327.10</td>\n",
       "    </tr>\n",
       "    <tr>\n",
       "      <th>2018-03-21</th>\n",
       "      <td>75.04</td>\n",
       "      <td>332.25</td>\n",
       "    </tr>\n",
       "    <tr>\n",
       "      <th>2018-03-22</th>\n",
       "      <td>73.50</td>\n",
       "      <td>341.35</td>\n",
       "    </tr>\n",
       "    <tr>\n",
       "      <th>2018-03-23</th>\n",
       "      <td>72.89</td>\n",
       "      <td>349.95</td>\n",
       "    </tr>\n",
       "    <tr>\n",
       "      <th>2018-03-26</th>\n",
       "      <td>74.00</td>\n",
       "      <td>342.45</td>\n",
       "    </tr>\n",
       "  </tbody>\n",
       "</table>\n",
       "</div>"
      ],
      "text/plain": [
       "            XOM:Adj. Close  OIL:Close\n",
       "Date                                 \n",
       "2018-03-20           73.99     327.10\n",
       "2018-03-21           75.04     332.25\n",
       "2018-03-22           73.50     341.35\n",
       "2018-03-23           72.89     349.95\n",
       "2018-03-26           74.00     342.45"
      ]
     },
     "execution_count": 9,
     "metadata": {},
     "output_type": "execute_result"
    }
   ],
   "source": [
    "renamed_data[[\"XOM:Adj. Close\",\"OIL:Close\"]].tail()"
   ]
  },
  {
   "cell_type": "markdown",
   "metadata": {},
   "source": [
    "Now it looks better!"
   ]
  },
  {
   "cell_type": "markdown",
   "metadata": {},
   "source": [
    "### Examining The Data"
   ]
  },
  {
   "cell_type": "markdown",
   "metadata": {},
   "source": [
    "We will now display the data and fit a model $y \\sim x + \\epsilon$"
   ]
  },
  {
   "cell_type": "code",
   "execution_count": 9,
   "metadata": {
    "ExecuteTime": {
     "end_time": "2018-03-27T02:19:49.574582Z",
     "start_time": "2018-03-27T02:19:49.297297Z"
    },
    "collapsed": false
   },
   "outputs": [
    {
     "data": {
      "text/plain": [
       "<matplotlib.text.Text at 0x7f4258b0ef28>"
      ]
     },
     "execution_count": 9,
     "metadata": {},
     "output_type": "execute_result"
    },
    {
     "data": {
      "image/png": "[encoded data removed]",
      "text/plain": [
       "<matplotlib.figure.Figure at 0x7f4258bab748>"
      ]
     },
     "metadata": {},
     "output_type": "display_data"
    }
   ],
   "source": [
    "fig, ax = plt.subplots()\n",
    "splot = sns.regplot(\"XOM:Adj. Close\",\"OIL:Close\",data=renamed_data, ax=ax)\n",
    "fig.suptitle('Oil and an Oil Firm, 1970-2015')"
   ]
  }
 ],
 "metadata": {
  "kernelspec": {
   "display_name": "Python 3",
   "language": "python",
   "name": "python3"
  },
  "language_info": {
   "codemirror_mode": {
    "name": "ipython",
    "version": 3
   },
   "file_extension": ".py",
   "mimetype": "text/x-python",
   "name": "python",
   "nbconvert_exporter": "python",
   "pygments_lexer": "ipython3",
   "version": "3.4.3"
  }
 },
 "nbformat": 4,
 "nbformat_minor": 1
}
